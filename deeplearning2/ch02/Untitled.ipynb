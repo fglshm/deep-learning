{
 "cells": [
  {
   "cell_type": "code",
   "execution_count": 182,
   "metadata": {},
   "outputs": [],
   "source": [
    "import numpy as np\n",
    "import re\n",
    "\n",
    "\n",
    "def preprocess(text):\n",
    "    text = text.lower()\n",
    "    text = text.replace('.', ' .')\n",
    "    words = text.split(' ')\n",
    "\n",
    "    word_to_id = {}\n",
    "    id_to_word = {}\n",
    "    for word in words:\n",
    "        if word not in word_to_id:\n",
    "            new_id = len(word_to_id)\n",
    "            word_to_id[word] = new_id\n",
    "            id_to_word[new_id] = word\n",
    "\n",
    "    corpus = np.array([word_to_id[w] for w in words])\n",
    "\n",
    "    return corpus, word_to_id, id_to_word\n",
    "\n",
    "def create_co_matrix(corpus, vocab_size, window_size=1):\n",
    "    # store the number of elements in corpus\n",
    "    corpus_size = len(corpus)\n",
    "    # initialize the matrix to explain co-occurence matrix of sentence\n",
    "    co_matrix = np.zeros((vocab_size, vocab_size), dtype=np.int32)\n",
    "    \n",
    "    # check co-occurence word of corpus\n",
    "    for idx, word_id in enumerate(corpus):\n",
    "        # check left and right side of words from current focus word according to window_size\n",
    "        for i in range(1, window_size + 1):\n",
    "            # srote the left and right word index based on the focued word\n",
    "            left_idx = idx - i\n",
    "            right_idx = idx + i\n",
    "            \n",
    "            if left_idx >= 0: # it has a word in the left side\n",
    "                # store the word id of the word in the left side\n",
    "                left_word_id = corpus[left_idx]\n",
    "                # add one count to the index of the left word's id\n",
    "                co_matrix[word_id, left_word_id] += 1\n",
    "            \n",
    "            if right_idx < corpus_size: # it has a word in the right side\n",
    "                # same process of the left side version\n",
    "                right_word_id = corpus[right_idx]\n",
    "                co_matrix[word_id, right_word_id] += 1\n",
    "    \n",
    "    return co_matrix\n",
    "\n",
    "def cos_similarity(x, y, eps=1e-8):\n",
    "    nx = x / (np.sqrt(np.sum(x**2)) + eps)\n",
    "    ny = y / (np.sqrt(np.sum(y**2)) + eps)\n",
    "    return np.dot(nx, ny)\n",
    "\n",
    "def most_similar(query, word_to_id, id_to_word, word_matrix, top=5):\n",
    "    query = query.lower()\n",
    "    # extract query\n",
    "    if query not in word_to_id:\n",
    "        print('{} is not found'.format(query))\n",
    "        return\n",
    "    \n",
    "    print('\\n[query] {}'.format(query))\n",
    "    query_id = word_to_id[query]\n",
    "    query_vec = word_matrix[query_id]\n",
    "    \n",
    "    # calculate the cosin-similarity\n",
    "    vocab_size = len(id_to_word)\n",
    "    similarity = np.zeros(vocab_size)\n",
    "    for i in range(vocab_size):\n",
    "        similarity[i] = cos_similarity(word_matrix[i], query_vec)\n",
    "    \n",
    "    # output the similarity order by high value\n",
    "    count = 0\n",
    "    for i in (-1*similarity).argsort():\n",
    "        if id_to_word[i] == query:\n",
    "            continue\n",
    "        print(' %s: %s' % (id_to_word[i], similarity[i]))\n",
    "        \n",
    "        count += 1\n",
    "        if count >= top:\n",
    "            return\n",
    "    "
   ]
  },
  {
   "cell_type": "code",
   "execution_count": 185,
   "metadata": {},
   "outputs": [
    {
     "name": "stdout",
     "output_type": "stream",
     "text": [
      "\n",
      "[query] apple\n",
      " developed: 0.49999999292893216\n",
      " the: 0.49999999292893216\n",
      " xcode: 0.0\n",
      " 10: 0.0\n",
      " can: 0.0\n"
     ]
    }
   ],
   "source": [
    "text = \"Once you’re sure you are running the correct version of the mac operating system, you can get started with downloading Xcode 10 through the Mac App Store. Open the App Store app on your Mac. By default the App Store is in the Dock. You can also find it in your Launchpad. You can obtain a developer license from Apple and it costs $99 per year. Unless you are ready to release your app to the App Store and start clawing back that fee, it is not recommended to start paying Apple right away. But when you are ready to start the registration process, go to the iOS Developer Program Center and enrolment should only take a few minutes.\"\n",
    "corpus, word_to_id, id_to_word = preprocess(text)\n",
    "C = create_co_matrix(corpus, len(word_to_id))\n",
    "\n",
    "most_similar(\"apple\", word_to_id, id_to_word, C)"
   ]
  },
  {
   "cell_type": "code",
   "execution_count": null,
   "metadata": {},
   "outputs": [],
   "source": []
  }
 ],
 "metadata": {
  "kernelspec": {
   "display_name": "Python 3",
   "language": "python",
   "name": "python3"
  },
  "language_info": {
   "codemirror_mode": {
    "name": "ipython",
    "version": 3
   },
   "file_extension": ".py",
   "mimetype": "text/x-python",
   "name": "python",
   "nbconvert_exporter": "python",
   "pygments_lexer": "ipython3",
   "version": "3.7.4"
  }
 },
 "nbformat": 4,
 "nbformat_minor": 2
}
