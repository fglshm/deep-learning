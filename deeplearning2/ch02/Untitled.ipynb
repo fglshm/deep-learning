{
 "cells": [
  {
   "cell_type": "code",
   "execution_count": 141,
   "metadata": {},
   "outputs": [],
   "source": [
    "import numpy as np\n",
    "import re\n",
    "\n",
    "\n",
    "def preprocess(text):\n",
    "    text = text.lower()\n",
    "    text = text.replace('.', ' .')\n",
    "    words = text.split(' ')\n",
    "\n",
    "    word_to_id = {}\n",
    "    id_to_word = {}\n",
    "    for word in words:\n",
    "        if word not in word_to_id:\n",
    "            new_id = len(word_to_id)\n",
    "            word_to_id[word] = new_id\n",
    "            id_to_word[new_id] = word\n",
    "\n",
    "    corpus = np.array([word_to_id[w] for w in words])\n",
    "\n",
    "    return corpus, word_to_id, id_to_word\n",
    "\n",
    "def create_co_matrix(corpus, vocab_size, window_size=1):\n",
    "    # store the number of elements in corpus\n",
    "    corpus_size = len(corpus)\n",
    "    # initialize the matrix to explain co-occurence matrix of sentence\n",
    "    co_matrix = np.zeros((vocab_size, vocab_size), dtype=np.int32)\n",
    "    \n",
    "    # check co-occurence word of corpus\n",
    "    for idx, word_id in enumerate(corpus):\n",
    "        # check left and right side of words from current focus word according to window_size\n",
    "        for i in range(1, window_size + 1):\n",
    "            # srote the left and right word index based on the focued word\n",
    "            left_idx = idx - i\n",
    "            right_idx = idx + i\n",
    "            \n",
    "            if left_idx >= 0: # it has a word in the left side\n",
    "                # store the word id of the word in the left side\n",
    "                left_word_id = corpus[left_idx]\n",
    "                # add one count to the index of the left word's id\n",
    "                co_matrix[word_id, left_word_id] += 1\n",
    "            \n",
    "            if right_idx < corpus_size - 1: # it has a word in the right side\n",
    "                # same process of the left side version\n",
    "                right_word_id = corpus[right_idx]\n",
    "                co_matrix[word_id, right_word_id] += 1\n",
    "    \n",
    "    return co_matrix\n",
    "\n",
    "def cos_similarity(x, y, eps=1e-8):\n",
    "    nx = x / (np.sqrt(np.sum(x**2)) + eps)\n",
    "    ny = y / (np.sqrt(np.sum(y**2)) + eps)\n",
    "    return np.dot(nx, ny)"
   ]
  },
  {
   "cell_type": "code",
   "execution_count": 150,
   "metadata": {},
   "outputs": [
    {
     "data": {
      "text/plain": [
       "0.7071067691154799"
      ]
     },
     "execution_count": 150,
     "metadata": {},
     "output_type": "execute_result"
    }
   ],
   "source": [
    "text = \"I used scrapy to crawl a website to get thousands of \\\n",
    ".txt files, each containing a text in natural language \\\n",
    "(description of a drug-induced experience). \\\n",
    "The name of each of these files is a unique number. \\\n",
    "I also have a .csv file with metadata associated \\\n",
    "with each of these unique numbers (i.e. I have a column for text_number, and other columns for the metadata corresponding to this particular number). One of the category of metadata is a dosage number (in mg).\"\n",
    "corpus, word_to_id, id_to_word = preprocess(text)\n",
    "C = create_co_matrix(corpus, len(word_to_id))\n",
    "\n",
    "c0 = C[word_to_id['one']]\n",
    "c1 = C[word_to_id['this']]\n",
    "cos_similarity(c0, c1)"
   ]
  },
  {
   "cell_type": "code",
   "execution_count": null,
   "metadata": {},
   "outputs": [],
   "source": []
  }
 ],
 "metadata": {
  "kernelspec": {
   "display_name": "Python 3",
   "language": "python",
   "name": "python3"
  },
  "language_info": {
   "codemirror_mode": {
    "name": "ipython",
    "version": 3
   },
   "file_extension": ".py",
   "mimetype": "text/x-python",
   "name": "python",
   "nbconvert_exporter": "python",
   "pygments_lexer": "ipython3",
   "version": "3.7.4"
  }
 },
 "nbformat": 4,
 "nbformat_minor": 2
}
