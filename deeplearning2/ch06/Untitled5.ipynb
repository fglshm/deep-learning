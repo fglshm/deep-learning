{
 "cells": [
  {
   "cell_type": "code",
   "execution_count": 8,
   "metadata": {},
   "outputs": [
    {
     "name": "stdout",
     "output_type": "stream",
     "text": [
      "929589\n",
      "aer 0\n",
      "banknote 1\n",
      "berlitz 2\n",
      "calloway 3\n",
      "centrust 4\n",
      "cluett 5\n",
      "fromstein 6\n",
      "gitano 7\n",
      "guterman 8\n",
      "hydro-quebec 9\n",
      "ipo 10\n"
     ]
    }
   ],
   "source": [
    "# coding: utf-8\n",
    "import sys\n",
    "sys.path.append('..')\n",
    "from common.optimizer import SGD\n",
    "from common.trainer import RnnlmTrainer\n",
    "from common.util import eval_perplexity\n",
    "from dataset import ptb\n",
    "from rnnlm import Rnnlm\n",
    "\n",
    "\n",
    "# ハイパーパラメータの設定\n",
    "batch_size = 2\n",
    "wordvec_size = 2\n",
    "hidden_size = 2  # RNNの隠れ状態ベクトルの要素数\n",
    "time_size = 35  # RNNを展開するサイズ\n",
    "lr = 20.0\n",
    "max_epoch = 1\n",
    "max_grad = 0.25\n",
    "\n",
    "# 学習データの読み込み\n",
    "corpus, word_to_id, id_to_word = ptb.load_data('train')\n",
    "corpus_test, _, _ = ptb.load_data('test')\n",
    "vocab_size = len(word_to_id)\n",
    "xs = corpus[:-1]\n",
    "ts = corpus[1:]\n",
    "\n",
    "print(len(corpus))\n",
    "for i, (k, v) in enumerate(word_to_id.items()):\n",
    "    print(k, v)\n",
    "    if i == 10:\n",
    "        break\n",
    "\n",
    "# # モデルの生成\n",
    "# model = Rnnlm(vocab_size, wordvec_size, hidden_size)\n",
    "# optimizer = SGD(lr)\n",
    "# trainer = RnnlmTrainer(model, optimizer)\n",
    "\n",
    "# # 勾配クリッピングを適用して学習\n",
    "# trainer.fit(xs, ts, max_epoch, batch_size, time_size, max_grad,\n",
    "#             eval_interval=20)\n",
    "# trainer.plot(ylim=(0, 500))\n",
    "\n",
    "# # テストデータで評価\n",
    "# model.reset_state()\n",
    "# ppl_test = eval_perplexity(model, corpus_test)\n",
    "# print('test perplexity: ', ppl_test)\n",
    "\n",
    "# # パラメータの保存\n",
    "# model.save_params()"
   ]
  },
  {
   "cell_type": "code",
   "execution_count": null,
   "metadata": {},
   "outputs": [],
   "source": []
  }
 ],
 "metadata": {
  "kernelspec": {
   "display_name": "Python 3",
   "language": "python",
   "name": "python3"
  },
  "language_info": {
   "codemirror_mode": {
    "name": "ipython",
    "version": 3
   },
   "file_extension": ".py",
   "mimetype": "text/x-python",
   "name": "python",
   "nbconvert_exporter": "python",
   "pygments_lexer": "ipython3",
   "version": "3.7.4"
  }
 },
 "nbformat": 4,
 "nbformat_minor": 2
}
