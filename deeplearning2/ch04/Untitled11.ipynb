{
 "cells": [
  {
   "cell_type": "code",
   "execution_count": 9,
   "metadata": {},
   "outputs": [],
   "source": [
    "import sys\n",
    "sys.path.append('..')\n",
    "import numpy as np\n",
    "import pickle\n",
    "from common.trainer import Trainer\n",
    "from common.optimizer import Adam\n",
    "from cbow import CBOW\n",
    "from common.util import create_contexts_target\n",
    "from dataset import ptb\n",
    "\n",
    "# initialize the hyper parameters\n",
    "window_size = 5\n",
    "hidden_size = 100\n",
    "batch_size = 100\n",
    "max_epoch = 10\n",
    "\n",
    "# load data\n",
    "corpus, word_to_id, id_to_word = ptb.load_data('train')\n",
    "vocab_size = len(word_to_id)\n",
    "\n",
    "# contexts, target = create_contexts_target(corpus, window_size)\n",
    "\n",
    "# # initialize the model\n",
    "# model = CBOW(vocab_size, hidden_size, window_size, corpus)\n",
    "# optimizer = Adam()\n",
    "# trainer = Trainer(model, optimizer)\n",
    "\n",
    "# # start machine learning\n",
    "# trainer.fit(contexts, target, max_epoch, batch_size)\n",
    "# trainer.plot()\n",
    "\n",
    "# # save data\n",
    "# word_vecs = model.word_vecs\n",
    "\n",
    "# params = {}\n",
    "# params['word_vecs'] = word_vecs.astype(np.float16)\n",
    "# params['word_to_id'] = word_to_id\n",
    "# params['id_to_word'] = id_to_word\n",
    "# pkl_file = 'cbow_params.pkl'\n",
    "# with open(pkl_file, 'wb') as f:\n",
    "#     pickle.dump(params, f, -1)"
   ]
  },
  {
   "cell_type": "code",
   "execution_count": null,
   "metadata": {},
   "outputs": [],
   "source": []
  }
 ],
 "metadata": {
  "kernelspec": {
   "display_name": "Python 3",
   "language": "python",
   "name": "python3"
  },
  "language_info": {
   "codemirror_mode": {
    "name": "ipython",
    "version": 3
   },
   "file_extension": ".py",
   "mimetype": "text/x-python",
   "name": "python",
   "nbconvert_exporter": "python",
   "pygments_lexer": "ipython3",
   "version": "3.7.4"
  }
 },
 "nbformat": 4,
 "nbformat_minor": 2
}
