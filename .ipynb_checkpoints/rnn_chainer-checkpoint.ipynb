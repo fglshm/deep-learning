{
 "cells": [
  {
   "cell_type": "code",
   "execution_count": 4,
   "metadata": {},
   "outputs": [],
   "source": [
    "# 各種ライブラリインポート\n",
    "import numpy as np\n",
    "import chainer\n",
    "import chainer.functions as F\n",
    "import chainer.links as L"
   ]
  },
  {
   "cell_type": "code",
   "execution_count": null,
   "metadata": {},
   "outputs": [],
   "source": [
    "class RNN(chainer.Chain):\n",
    "    \"\"\"Simple Recurrent Neural Network\"\"\"\n",
    "    def __init__(self, n_vocab, n_units):\n",
    "        super(RNN, self).__init__()\n",
    "        with self.init_scope():\n",
    "            self.embed = L.EmbedID(n_vocab, n_units)\n",
    "            self.l1 = L.Linear(n_units, n_units)\n",
    "            self.r1 = L.Linear(n_units, n_units)\n",
    "            self.l2 = L.Linear(n_units, n_vocab)\n",
    "        self.reccurrent_h = None\n",
    "    \n",
    "    def reset_state(self):\n",
    "        self.recurrent_h = None\n",
    "        \n",
    "    def __call__(self, x):\n",
    "        h = self.embed(x)\n",
    "        if self.recurrent_h is None:\n",
    "            self.reccurrent_h = F.tanh(self.l1(h))\n",
    "        else:\n",
    "            self.recurrent_h = F.tanh(self.l1(h) + self.r1(self.recurrent_h))\n",
    "        y = self.l2(self.recurrent_h)\n",
    "        return y"
   ]
  }
 ],
 "metadata": {
  "kernelspec": {
   "display_name": "Python 3",
   "language": "python",
   "name": "python3"
  },
  "language_info": {
   "codemirror_mode": {
    "name": "ipython",
    "version": 3
   },
   "file_extension": ".py",
   "mimetype": "text/x-python",
   "name": "python",
   "nbconvert_exporter": "python",
   "pygments_lexer": "ipython3",
   "version": "3.7.4"
  }
 },
 "nbformat": 4,
 "nbformat_minor": 2
}
