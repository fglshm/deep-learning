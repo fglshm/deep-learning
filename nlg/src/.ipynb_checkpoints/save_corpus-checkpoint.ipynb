{
 "cells": [
  {
   "cell_type": "code",
   "execution_count": 7,
   "metadata": {},
   "outputs": [],
   "source": [
    "from ted_dataset import load_data\n",
    "import numpy as np\n",
    "\n",
    "so_words, so_word_to_id, so_id_to_word = load_data('so')\n",
    "nso_words, nso_word_to_id, nso_id_to_word = load_data('nso')\n",
    "\n",
    "so_corpus = np.array([so_word_to_id[w] for w in so_words])\n",
    "nso_corpus = np.array([nso_word_to_id[w] for w in nso_words])\n",
    "\n",
    "np.save('ted.so.corpus.npy', so_corpus)\n",
    "np.save('ted.nso.corpus.npy', nso_corpus)"
   ]
  },
  {
   "cell_type": "code",
   "execution_count": null,
   "metadata": {},
   "outputs": [],
   "source": []
  }
 ],
 "metadata": {
  "kernelspec": {
   "display_name": "Python 3",
   "language": "python",
   "name": "python3"
  },
  "language_info": {
   "codemirror_mode": {
    "name": "ipython",
    "version": 3
   },
   "file_extension": ".py",
   "mimetype": "text/x-python",
   "name": "python",
   "nbconvert_exporter": "python",
   "pygments_lexer": "ipython3",
   "version": "3.7.4"
  }
 },
 "nbformat": 4,
 "nbformat_minor": 2
}
