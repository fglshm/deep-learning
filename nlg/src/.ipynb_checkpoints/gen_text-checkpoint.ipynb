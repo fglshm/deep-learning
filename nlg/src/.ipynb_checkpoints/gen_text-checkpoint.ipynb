{
 "cells": [
  {
   "cell_type": "code",
   "execution_count": 11,
   "metadata": {},
   "outputs": [
    {
     "name": "stdout",
     "output_type": "stream",
     "text": [
      "33864\n",
      "1185640\n",
      "you immerse him as long as it 's all an the stuff it 's all my harry and professional son aboody hi no matter the united nations has gathered the talkers and keep counts what if you do n't say do you bring it up it 's greater than the canadian oscar simply plan do buildings moment first of that and now fourteenth-century power approach everything we catch it from any other hemisphere than that discussions and while where we do or not recognize narrow and the cost of existence the good `` in power did not do it they were sexual educated broken earthrise and as we do n't need to try from the long parts of classical colleagues to talk it 's dear but how we can attended the chronologically hobbes '' given from the blue is denuded of television what excites you do n't take the way so it turns out we could often work raising milk off we 're filled with images as that drowns in its water what happens to be worse during my codes and again while they teach and beware i 'm also here that it look now what they done the data where i believe it 's deaf people who are thousands years later when i was going to go my desk to be commissioned for me an example for fear because i invaded record on the islamic board and how much money they could say in the developing world because yet such a concrete command to sing the hearing out joke you think like april walk in this incredible approach there was no about expertise but most of them came in the very beginning next next for free sounded like the more part of the deal of within singers and they said that you could n't get i 'd really like this but as `` i 'm not talking about the financial box for a golf replacement hole walking around the first move unlocked '' other people 's crazy processing '' or maybe optimism was not a virtual reality in a interest with the paradigm and my inequality was on this stage square thought that if you were made my potential and your abilities are prostitution prevent you need prejudice including the people who do n't go and you actually want just for instance long but ultimately you were beaut but you remember the problem the choir be stuck by organizing such implications of yourself but then as you were in there today brandon and with body customers and what well it 's been obsessed with each very little in the impacts of water everybody has on earth i guess as an idea because i 'm running out here as a glimpse of our banting intent started getting shared the aquatic theory of a man he shows the heart to target on the book he 's all the disasters or the simplest way iphones recently these two red days it 's the recovering largest exchange the eminent war in weibo against two of their companies mental health reform but its water in the developing world but they could keep environmental partners who are nearly very difficult for people well we were not able to embrace hundreds of cattle for the confidence she understand anything because they do n't have such practice of assistance but they help `` hey human development our universe gamers have they should we do n't have had for the child but they do n't really get peace but the older the job it the periphery '' but jungle is at work but let 's move on my legs i 've just given the gap to all stand now the audience is hire that i do n't talk about well i 've never been involved in believe the title that i 've got allegory that language causality discriminatory it 's part of it it 's an display of the psychiatrist this is what because the dangers news groups will just walk and fewer people examine more complex life journey for two weeks it 's not because like you go to almost write again but there was joined lots and were into living chickens as and amazingly i do n't have any other faith it does this at ted how it turns out of these experiments and half the barber merchandise now everybody starts there is no money environment at the end of the number of the survival of the you the difficult-to-navigate replacement of course from the whole thing again which of the peanuts you breathe during candy and when you take real raw infections which is not the jellyfish and the next one but it 's not possible for nothing to happen to show you the workings that that the river is the next day the birthing state run it on the left in the developing world our children still monitor so much more financial growth are going through global warming more postman more caring but now let 's start very quickly is that there 's no less than the purpose of place it 's not the devil of the century inside the power for compassion that applied me schools in the world our coffee themselves well people will say there you can see it inform people i can and this is not as easy now before and those things appear where began i expected i never met her or sticks the hand on christopher during the first time she does n't have it 's guessed kind and then the world is a terrorist voice this announced grounded in another moment on the page and he 's living with 50,000-square-foot artists river for her kids from the ink and they can celebrate the chief of these dreams on the crops in the 1980s and made a hole and seats out but the refugee children of disability that organize predictive sense possibilities out the jailers but it 's\n"
     ]
    }
   ],
   "source": [
    "# coding: utf-8\n",
    "import sys\n",
    "sys.path.append('../../deeplearning2')\n",
    "sys.path.append('../../deeplearning2/ch07')\n",
    "from rnnlm_gen import RnnlmGen\n",
    "from dataset import ptb\n",
    "from ted import data\n",
    "\n",
    "corpus, word_to_id, id_to_word = data('so')\n",
    "vocab_size = len(word_to_id)\n",
    "corpus_size = len(corpus)\n",
    "\n",
    "print(vocab_size)\n",
    "print(corpus_size)\n",
    "\n",
    "model = RnnlmGen(vocab_size=vocab_size)\n",
    "model.load_params('Rnnlm.pkl')\n",
    "\n",
    "start_word = 'you'\n",
    "start_id = word_to_id[start_word]\n",
    "word_ids = model.generate(start_id, sample_size=1000)\n",
    "txt = ' '.join([id_to_word[i] for i in word_ids])\n",
    "print(txt)"
   ]
  },
  {
   "cell_type": "code",
   "execution_count": null,
   "metadata": {},
   "outputs": [],
   "source": []
  }
 ],
 "metadata": {
  "kernelspec": {
   "display_name": "Python 3",
   "language": "python",
   "name": "python3"
  },
  "language_info": {
   "codemirror_mode": {
    "name": "ipython",
    "version": 3
   },
   "file_extension": ".py",
   "mimetype": "text/x-python",
   "name": "python",
   "nbconvert_exporter": "python",
   "pygments_lexer": "ipython3",
   "version": "3.7.4"
  }
 },
 "nbformat": 4,
 "nbformat_minor": 2
}
