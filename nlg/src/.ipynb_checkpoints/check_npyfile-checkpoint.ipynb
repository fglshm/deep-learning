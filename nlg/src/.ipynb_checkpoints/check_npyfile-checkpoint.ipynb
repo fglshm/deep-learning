{
 "cells": [
  {
   "cell_type": "code",
   "execution_count": 1,
   "metadata": {},
   "outputs": [
    {
     "name": "stdout",
     "output_type": "stream",
     "text": [
      "[    0     1     2 ... 13990   108  5594]\n"
     ]
    }
   ],
   "source": [
    "import numpy as np\n",
    "\n",
    "so_npy = 'ted.so.corpus.npy'\n",
    "nso_npy = 'ted.nso.corpus.npy'\n",
    "\n",
    "so_corpus = np.load(so_npy)\n",
    "print(so_corpus)"
   ]
  }
 ],
 "metadata": {
  "kernelspec": {
   "display_name": "Python 3",
   "language": "python",
   "name": "python3"
  },
  "language_info": {
   "codemirror_mode": {
    "name": "ipython",
    "version": 3
   },
   "file_extension": ".py",
   "mimetype": "text/x-python",
   "name": "python",
   "nbconvert_exporter": "python",
   "pygments_lexer": "ipython3",
   "version": "3.7.4"
  }
 },
 "nbformat": 4,
 "nbformat_minor": 2
}
