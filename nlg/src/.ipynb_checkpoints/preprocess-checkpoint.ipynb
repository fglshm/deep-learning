{
 "cells": [
  {
   "cell_type": "code",
   "execution_count": 48,
   "metadata": {},
   "outputs": [
    {
     "name": "stderr",
     "output_type": "stream",
     "text": [
      "507it [00:11, 44.46it/s]\n"
     ]
    },
    {
     "name": "stdout",
     "output_type": "stream",
     "text": [
      "1185640\n"
     ]
    },
    {
     "name": "stderr",
     "output_type": "stream",
     "text": [
      "569it [00:10, 52.65it/s]\n"
     ]
    },
    {
     "name": "stdout",
     "output_type": "stream",
     "text": [
      "1146709\n"
     ]
    }
   ],
   "source": [
    "import glob\n",
    "import re\n",
    "import nltk\n",
    "from tqdm import tqdm\n",
    "from itertools import chain\n",
    "import numpy as np\n",
    "import pickle\n",
    "\n",
    "\n",
    "def remove_words(text):\n",
    "    text = re.sub(r'\\([\\s\\w]+\\)', r'', text)  # ()と()の中の文字を削除\n",
    "    text = re.sub(r'[A-Z]{2}:', ' ', text)  # [A-Z][A-Z]: は発言者の名前であるため削除\n",
    "    text = re.sub(r'\\s+', r' ', text)  # 連続した空白を空白に変換\n",
    "    return text.strip()  # 先頭と末尾の空白を削除して返す\n",
    "\n",
    "def tokens(text):\n",
    "    return nltk.word_tokenize(text)\n",
    "\n",
    "def downcase(lst):\n",
    "    lst = [word.lower() for word in lst]\n",
    "    return lst\n",
    "\n",
    "def rm(lst):\n",
    "    pattern = re.compile(r'\\w')\n",
    "    for i, word in enumerate(lst):\n",
    "        if not pattern.findall(word):\n",
    "            del lst[i]\n",
    "    return lst\n",
    "\n",
    "\n",
    "so_vocab_file = 'ted.so.vocab.pkl'\n",
    "nso_vocab_file = 'ted.nso.vocab.pkl'\n",
    "\n",
    "transcript_path = '/Users/shohei/Desktop/tsukuba/research/master/study/speech_original_transcripts'\n",
    "so_path = transcript_path + '/so/*'\n",
    "nso_path = transcript_path + '/nso/*'\n",
    "\n",
    "for path, pkl in zip([so_path, nso_path], [so_vocab_file, nso_vocab_file]):\n",
    "    word_to_id = {}\n",
    "    id_to_word = {}\n",
    "    all_words = []\n",
    "    for idx, filename in tqdm(enumerate(glob.glob(path))):\n",
    "        transcript = open(filename).read().strip()\n",
    "        transcript = remove_words(transcript)\n",
    "        words = tokens(transcript)\n",
    "        words = rm(words)\n",
    "        words = downcase(words)\n",
    "        all_words.append(words)\n",
    "        for i, word in enumerate(words):\n",
    "            if word not in word_to_id:\n",
    "                tmp_id = len(word_to_id)\n",
    "                word_to_id[word] = tmp_id\n",
    "                id_to_word[tmp_id] = word\n",
    "\n",
    "    all_words = list(chain.from_iterable(all_words))\n",
    "    print(len(all_words))\n",
    "    with open(pkl, 'wb') as f:\n",
    "        pickle.dump((all_words, word_to_id, id_to_word), f)\n",
    "\n"
   ]
  },
  {
   "cell_type": "code",
   "execution_count": null,
   "metadata": {},
   "outputs": [],
   "source": []
  },
  {
   "cell_type": "code",
   "execution_count": null,
   "metadata": {},
   "outputs": [],
   "source": []
  }
 ],
 "metadata": {
  "kernelspec": {
   "display_name": "Python 3",
   "language": "python",
   "name": "python3"
  },
  "language_info": {
   "codemirror_mode": {
    "name": "ipython",
    "version": 3
   },
   "file_extension": ".py",
   "mimetype": "text/x-python",
   "name": "python",
   "nbconvert_exporter": "python",
   "pygments_lexer": "ipython3",
   "version": "3.7.4"
  }
 },
 "nbformat": 4,
 "nbformat_minor": 2
}
