{
 "cells": [
  {
   "cell_type": "code",
   "execution_count": null,
   "metadata": {},
   "outputs": [
    {
     "name": "stdout",
     "output_type": "stream",
     "text": [
      "| epoch 1 |  iter 1 / 5928 | time 0[s] | perplexity 33864.32\n",
      "| epoch 1 |  iter 21 / 5928 | time 6[s] | perplexity 7274.21\n",
      "| epoch 1 |  iter 41 / 5928 | time 12[s] | perplexity 2844.27\n",
      "| epoch 1 |  iter 61 / 5928 | time 17[s] | perplexity 1937.45\n",
      "| epoch 1 |  iter 81 / 5928 | time 23[s] | perplexity 1488.58\n",
      "| epoch 1 |  iter 101 / 5928 | time 29[s] | perplexity 1224.46\n",
      "| epoch 1 |  iter 121 / 5928 | time 35[s] | perplexity 1210.75\n",
      "| epoch 1 |  iter 141 / 5928 | time 41[s] | perplexity 1048.38\n",
      "| epoch 1 |  iter 161 / 5928 | time 47[s] | perplexity 984.02\n"
     ]
    }
   ],
   "source": [
    "from ted import data\n",
    "import numpy as np\n",
    "import sys\n",
    "sys.path.append('../../deeplearning2')\n",
    "sys.path.append('../../deeplearning2/ch06')\n",
    "from common.optimizer import SGD\n",
    "from common.trainer import RnnlmTrainer\n",
    "from rnnlm import Rnnlm\n",
    "\n",
    "# initialize the hyper parameters\n",
    "batch_size = 10\n",
    "wordvec_size = 100\n",
    "hidden_size = 100\n",
    "time_size = 20\n",
    "lr = 20.0\n",
    "max_epoch = 4\n",
    "max_grad = 0.25\n",
    "\n",
    "# load training data\n",
    "corpus, word_to_id, id_to_word = data('so')\n",
    "vocab_size = len(word_to_id)\n",
    "xs = corpus[:-1] # input\n",
    "ts = corpus[1:]  # correct data in output\n",
    "\n",
    "# initialize the model\n",
    "model = Rnnlm(vocab_size, wordvec_size, hidden_size)\n",
    "optimizer = SGD(lr)\n",
    "trainer = RnnlmTrainer(model, optimizer)\n",
    "\n",
    "# apply gradient clipping\n",
    "trainer.fit(xs, ts, max_epoch, batch_size, time_size, max_grad)\n",
    "trainer.plot(ylim=(0, 500))\n",
    "\n",
    "model.save_params()"
   ]
  },
  {
   "cell_type": "code",
   "execution_count": null,
   "metadata": {},
   "outputs": [],
   "source": []
  }
 ],
 "metadata": {
  "kernelspec": {
   "display_name": "Python 3",
   "language": "python",
   "name": "python3"
  },
  "language_info": {
   "codemirror_mode": {
    "name": "ipython",
    "version": 3
   },
   "file_extension": ".py",
   "mimetype": "text/x-python",
   "name": "python",
   "nbconvert_exporter": "python",
   "pygments_lexer": "ipython3",
   "version": "3.7.4"
  }
 },
 "nbformat": 4,
 "nbformat_minor": 2
}
