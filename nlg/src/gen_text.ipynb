{
 "cells": [
  {
   "cell_type": "code",
   "execution_count": 19,
   "metadata": {},
   "outputs": [
    {
     "name": "stdout",
     "output_type": "stream",
     "text": [
      "33864\n",
      "1185640\n",
      "global change about this very hard strong after ted stage primary processes in the following chart it 's supposed to be now our stuff and most of the hesitate have now disturbing than 200 things managed at several years the end of labor channels and we know that 's why you ca n't see that do n't like a future or in which third more than to translate the transition hooked you should see second wow what 's available for become ugly intuitions than folding water and yet there is nothing on good and some of the best quality regiment we 've found violence in new york magazine hard-minded resorts plants it 's not visible that breasts women in different problems say in cedar you have and see the violence you can all see here enabled your energy so unhealed came up with the code that needed with a these people the small question is we still made there was not a huge attribute of our ecology closer to secure 30,000 predators the fourth so for example for us came to other people `` is our '' and right led is not because that is not gold but also the people who disagree in one valley hopes to decide what well you know what it does is you cut the idea of allah from your way from divert but it 's about the upcoming or coming anywhere in the summed for laparoscopically to become such truly grateful and mad you take a lot of the soil and that 's not hot plates charging on the right arnon you 've found that thirst huge like that you going to go through the new york city the voice gradually is supremely more than i would cry for five minutes a couple times and you see we do you do n't multiply this but you look `` emails man test this is just about infuse wake up up in the crowd for transparency and it 's also the overhead echoes has found that if you want a mix of if you do n't feel cute '' now you 've interviewed it and i turned my window thank you for now those are so important about the essence clinical to be extremely uncomfortable but for one another year like make the sound for the new law it 's not so meaningful the answer was not our music begins of law i turned up from that so i grew up otherwise the walls the wrestler i did n't look more layers identity do you see 10 the auntie we did n't see the problem and were more like mcgetrick until before we returned around connects that opened by those lines looking for example this can continue with so small the liberal arts stuff that we have noises and currently freedom-ride this example is us the responsibility of democracy doing about abundance the private institutions now that chinese flick a water project carried attempted to reach\n"
     ]
    }
   ],
   "source": [
    "# coding: utf-8\n",
    "import sys\n",
    "sys.path.append('../../deeplearning2')\n",
    "sys.path.append('../../deeplearning2/ch07')\n",
    "from rnnlm_gen import RnnlmGen\n",
    "from dataset import ptb\n",
    "from ted import data\n",
    "\n",
    "corpus, word_to_id, id_to_word = data('so')\n",
    "vocab_size = len(word_to_id)\n",
    "corpus_size = len(corpus)\n",
    "\n",
    "print(vocab_size)\n",
    "print(corpus_size)\n",
    "\n",
    "model = RnnlmGen(vocab_size=vocab_size)\n",
    "model.load_params('Rnnlm_so.pkl')\n",
    "\n",
    "start_word = 'global'\n",
    "start_id = word_to_id[start_word]\n",
    "word_ids = model.generate(start_id, sample_size=500)\n",
    "txt = ' '.join([id_to_word[i] for i in word_ids])\n",
    "print(txt)"
   ]
  },
  {
   "cell_type": "code",
   "execution_count": null,
   "metadata": {},
   "outputs": [],
   "source": []
  }
 ],
 "metadata": {
  "kernelspec": {
   "display_name": "Python 3",
   "language": "python",
   "name": "python3"
  },
  "language_info": {
   "codemirror_mode": {
    "name": "ipython",
    "version": 3
   },
   "file_extension": ".py",
   "mimetype": "text/x-python",
   "name": "python",
   "nbconvert_exporter": "python",
   "pygments_lexer": "ipython3",
   "version": "3.7.4"
  }
 },
 "nbformat": 4,
 "nbformat_minor": 2
}
